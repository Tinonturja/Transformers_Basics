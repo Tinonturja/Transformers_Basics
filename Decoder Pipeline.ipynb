{
 "cells": [
  {
   "cell_type": "code",
   "execution_count": 1,
   "id": "dadaa06c-70fc-4cc0-8a29-b641052b7f5c",
   "metadata": {},
   "outputs": [],
   "source": [
    "import torchtext\n",
    "from torchtext.datasets import multi30k,Multi30k\n",
    "import torch\n",
    "from typing import Iterable, List\n",
    "import matplotlib.pyplot as plt\n",
    "import torch.nn as nn\n",
    "from torch.nn import Transformer\n",
    "import math\n",
    "from torchtext.vocab import Vocab\n",
    "from torchtext.data.utils import get_tokenizer\n",
    "from torchtext.vocab import build_vocab_from_iterator\n",
    "from torch.nn.utils.rnn import pad_sequence\n",
    "from torchtext.datasets import IMDB,PennTreebank\n",
    "import time\n",
    "\n",
    "\n",
    "\n",
    "import warnings\n",
    "def warn(*args,**kwargs):\n",
    "    pass\n",
    "warnings.warn = warn\n",
    "warnings.filterwarnings('ignore')\n"
   ]
  },
  {
   "cell_type": "code",
   "execution_count": 2,
   "id": "7fa9e745-a9d6-4959-a26b-a3458bfbfe91",
   "metadata": {},
   "outputs": [],
   "source": [
    "from torchtext.datasets import IMDB\n",
    "train_iter, test_iter = IMDB()"
   ]
  },
  {
   "cell_type": "code",
   "execution_count": 3,
   "id": "7a937360-069b-450d-9232-e90f35cc15e2",
   "metadata": {},
   "outputs": [],
   "source": [
    "label,sample = next(iter(train_iter))"
   ]
  },
  {
   "cell_type": "code",
   "execution_count": 5,
   "id": "9626d762-4915-47c4-b773-8dce592879d7",
   "metadata": {},
   "outputs": [
    {
     "data": {
      "text/plain": [
       "(1,\n",
       " 'I rented I AM CURIOUS-YELLOW from my video store because of all the controversy that surrounded it when it was first released in 1967. I also heard that at first it was seized by U.S. customs if it ever tried to enter this country, therefore being a fan of films considered \"controversial\" I really had to see this for myself.<br /><br />The plot is centered around a young Swedish drama student named Lena who wants to learn everything she can about life. In particular she wants to focus her attentions to making some sort of documentary on what the average Swede thought about certain political issues such as the Vietnam War and race issues in the United States. In between asking politicians and ordinary denizens of Stockholm about their opinions on politics, she has sex with her drama teacher, classmates, and married men.<br /><br />What kills me about I AM CURIOUS-YELLOW is that 40 years ago, this was considered pornographic. Really, the sex and nudity scenes are few and far between, even then it\\'s not shot like some cheaply made porno. While my countrymen mind find it shocking, in reality sex and nudity are a major staple in Swedish cinema. Even Ingmar Bergman, arguably their answer to good old boy John Ford, had sex scenes in his films.<br /><br />I do commend the filmmakers for the fact that any sex shown in the film is shown for artistic purposes rather than just to shock people and make money to be shown in pornographic theaters in America. I AM CURIOUS-YELLOW is a good film for anyone wanting to study the meat and potatoes (no pun intended) of Swedish cinema. But really, this film doesn\\'t have much of a plot.')"
      ]
     },
     "execution_count": 5,
     "metadata": {},
     "output_type": "execute_result"
    }
   ],
   "source": [
    "label,sample"
   ]
  },
  {
   "cell_type": "code",
   "execution_count": 4,
   "id": "18e8397d-5695-4c02-b07c-3f7ad8ee5841",
   "metadata": {},
   "outputs": [],
   "source": [
    "label_list =set([label for label,_ in train_iter])\n"
   ]
  },
  {
   "cell_type": "markdown",
   "id": "ee633eed-98d4-4ade-aafb-01ba48f1bab3",
   "metadata": {},
   "source": [
    "## Data Processing"
   ]
  },
  {
   "cell_type": "code",
   "execution_count": 6,
   "id": "0c6722de-e6cb-4c73-99bc-4c19731247c5",
   "metadata": {},
   "outputs": [],
   "source": [
    "UNK_IDX, PAD_IDX, EOS_IDX = 0,1,2\n",
    "special_symbols = ['<unk>','<pad>','<|endoftext|>']"
   ]
  },
  {
   "cell_type": "code",
   "execution_count": 7,
   "id": "82555d7f-a1fa-4178-8f3d-b80607220c18",
   "metadata": {},
   "outputs": [],
   "source": [
    "# set the tokenizer\n",
    "tokenizer = get_tokenizer('basic_english')\n",
    "\n",
    "def yield_token(dataset):\n",
    "    for _,text in dataset:\n",
    "        yield tokenizer(text)\n",
    "\n",
    "# Create the vocabulary\n",
    "vocab = build_vocab_from_iterator(yield_token(train_iter), specials = special_symbols,special_first=True)"
   ]
  },
  {
   "cell_type": "code",
   "execution_count": 15,
   "id": "07e5c863-e48e-4453-a190-5ee95c297e07",
   "metadata": {},
   "outputs": [],
   "source": [
    "# Text to index, Index to text\n",
    "\n",
    "# input--> token; output--> index\n",
    "text_to_idx = lambda text: [vocab[token] for token in tokenizer(text)]\n",
    "\n",
    "# input --> index; output--> token\n",
    "idx_to_text = lambda seq_en: \" \".join([vocab.get_itos()[idx] for idx in seq_en])"
   ]
  },
  {
   "cell_type": "code",
   "execution_count": 16,
   "id": "aa0f1cce-a605-4cf9-8108-c291bb86fa9a",
   "metadata": {},
   "outputs": [
    {
     "data": {
      "text/plain": [
       "['<unk>', '<pad>', '<|endoftext|>', '.', 'the', ',', 'a', 'and', \"'\", 'of']"
      ]
     },
     "execution_count": 16,
     "metadata": {},
     "output_type": "execute_result"
    }
   ],
   "source": [
    "items = list(vocab.get_itos())[:10]\n",
    "items"
   ]
  },
  {
   "cell_type": "code",
   "execution_count": 18,
   "id": "0546cc3e-2ee1-4695-a64a-b9fa2cbf2af3",
   "metadata": {},
   "outputs": [
    {
     "data": {
      "text/plain": [
       "'<unk> <pad> <|endoftext|>'"
      ]
     },
     "execution_count": 18,
     "metadata": {},
     "output_type": "execute_result"
    }
   ],
   "source": [
    "text = idx_to_text(torch.tensor([0,1,2]))\n",
    "text"
   ]
  },
  {
   "cell_type": "markdown",
   "id": "377f2ec0-f865-474f-9143-4bfe01c0e853",
   "metadata": {},
   "source": [
    "## Collate Function"
   ]
  },
  {
   "cell_type": "markdown",
   "id": "046ffc46-1041-4764-b7cf-21f18fa8328a",
   "metadata": {},
   "source": [
    "Collate function shapes how the dataloader perceives the data. To pass the data through the model each string should have equal length"
   ]
  },
  {
   "cell_type": "code",
   "execution_count": null,
   "id": "6d72b192-5202-4d74-8b3b-569e7e1c4878",
   "metadata": {},
   "outputs": [],
   "source": [
    "def get_sample(block_size, text):\n",
    "    \"\"\"The goal of the function is to generate a training sample. The input and the target dataset. It's done because the model learns from the input\n",
    "    and tries to predict the output.\n",
    "    \n",
    "    Parameters(block_size,text):\n",
    "        block_size: actually indicates the context size. At how many tokens the model can look at once. \n",
    "        text: the full dataset. A list of long tokens\n",
    "        \"\"\"\n",
    "\n",
    "\n",
    "    sample_len = len(text) # gives the input of the total length of the input"
   ]
  }
 ],
 "metadata": {
  "kernelspec": {
   "display_name": "Python 3 (ipykernel)",
   "language": "python",
   "name": "python3"
  },
  "language_info": {
   "codemirror_mode": {
    "name": "ipython",
    "version": 3
   },
   "file_extension": ".py",
   "mimetype": "text/x-python",
   "name": "python",
   "nbconvert_exporter": "python",
   "pygments_lexer": "ipython3",
   "version": "3.12.7"
  }
 },
 "nbformat": 4,
 "nbformat_minor": 5
}
