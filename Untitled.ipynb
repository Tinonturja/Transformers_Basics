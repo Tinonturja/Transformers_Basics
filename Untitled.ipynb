{
 "cells": [
  {
   "cell_type": "markdown",
   "id": "1a0ed321-5e60-4880-9e04-aecebc38d024",
   "metadata": {},
   "source": [
    "## Importing Library"
   ]
  },
  {
   "cell_type": "code",
   "execution_count": 15,
   "id": "7a5f741b-5883-4d06-bb45-819eeec15315",
   "metadata": {},
   "outputs": [],
   "source": [
    "import torch\n",
    "import torch.nn as nn\n",
    "from torch.utils.data import Dataset,DataLoader\n",
    "\n",
    "import torchtext\n",
    "from torchtext.data.utils import get_tokenizer\n",
    "from torchtext.vocab import build_vocab_from_iterator\n",
    "\n",
    "from torchtext.datasets import IMDB\n",
    "import time\n",
    "import warnings\n",
    "def warn(*args,**kwargs):\n",
    "    pass\n",
    "\n",
    "warnings.warn = warn()\n",
    "warnings.filterwarnings('ignore')"
   ]
  },
  {
   "cell_type": "markdown",
   "id": "0029e097-a72f-4980-917c-36e3835dd6dc",
   "metadata": {},
   "source": [
    "## Dataset"
   ]
  },
  {
   "cell_type": "code",
   "execution_count": 23,
   "id": "4c2eeae6-660d-4956-b3a8-b7bbee41ceed",
   "metadata": {},
   "outputs": [
    {
     "name": "stdout",
     "output_type": "stream",
     "text": [
      "12500\n",
      "{1}\n",
      "Total sample:12500\n",
      "25000\n",
      "{1, 2}\n",
      "Total sample in testdataset:25000\n",
      "Time required: 1.00 seconds\n"
     ]
    }
   ],
   "source": [
    "train_iter,test_iter = IMDB()\n",
    "\n",
    "label,text_list = [],[]\n",
    "test_label,test_text_list = [],[]\n",
    "start_time = time.time()\n",
    "for _,text in train_iter:\n",
    "    label.append(_)\n",
    "    text_list.append(text)\n",
    "\n",
    "print(len(label))\n",
    "print(set(label))\n",
    "print(f\"Total sample:{len(text_list)}\")\n",
    "\n",
    "\n",
    "for _,text in test_iter:\n",
    "    test_label.append(_)\n",
    "    test_text_list.append(text)\n",
    "\n",
    "end_time = time.time()\n",
    "duration = end_time-start_time\n",
    "print(len(test_label))\n",
    "print(set(test_label))\n",
    "print(f\"Total sample in testdataset:{len(test_text_list)}\")\n",
    "print(f\"Time required: {duration:.2f} seconds\")"
   ]
  },
  {
   "cell_type": "markdown",
   "id": "a870dde1-c070-4a01-8413-397cc3c1cc25",
   "metadata": {},
   "source": [
    "The training dataset has 12500 text block and the test dataset has 25000 text block"
   ]
  },
  {
   "cell_type": "code",
   "execution_count": 22,
   "id": "86751d57-8e01-4888-a328-829544001f4d",
   "metadata": {},
   "outputs": [
    {
     "name": "stdout",
     "output_type": "stream",
     "text": [
      "First Train Text example: I rented I AM CURIOUS-YELLOW from my video store because of all the controversy that surrounded it when it was first released in 1967. I also heard that at first it was seized by U.S. customs if it ever tried to enter this country, therefore being a fan of films considered \"controversial\" I really had to see this for myself.<br /><br />The plot is centered around a young Swedish drama student named Lena who wants to learn everything she can about life. In particular she wants to focus her attentions to making some sort of documentary on what the average Swede thought about certain political issues such as the Vietnam War and race issues in the United States. In between asking politicians and ordinary denizens of Stockholm about their opinions on politics, she has sex with her drama teacher, classmates, and married men.<br /><br />What kills me about I AM CURIOUS-YELLOW is that 40 years ago, this was considered pornographic. Really, the sex and nudity scenes are few and far between, even then it's not shot like some cheaply made porno. While my countrymen mind find it shocking, in reality sex and nudity are a major staple in Swedish cinema. Even Ingmar Bergman, arguably their answer to good old boy John Ford, had sex scenes in his films.<br /><br />I do commend the filmmakers for the fact that any sex shown in the film is shown for artistic purposes rather than just to shock people and make money to be shown in pornographic theaters in America. I AM CURIOUS-YELLOW is a good film for anyone wanting to study the meat and potatoes (no pun intended) of Swedish cinema. But really, this film doesn't have much of a plot.\n",
      "\n",
      "First Test Text example: I love sci-fi and am willing to put up with a lot. Sci-fi movies/TV are usually underfunded, under-appreciated and misunderstood. I tried to like this, I really did, but it is to good TV sci-fi as Babylon 5 is to Star Trek (the original). Silly prosthetics, cheap cardboard sets, stilted dialogues, CG that doesn't match the background, and painfully one-dimensional characters cannot be overcome with a 'sci-fi' setting. (I'm sure there are those of you out there who think Babylon 5 is good sci-fi TV. It's not. It's clichéd and uninspiring.) While US viewers might like emotion and character development, sci-fi is a genre that does not take itself seriously (cf. Star Trek). It may treat important issues, yet not as a serious philosophy. It's really difficult to care about the characters here as they are not simply foolish, just missing a spark of life. Their actions and reactions are wooden and predictable, often painful to watch. The makers of Earth KNOW it's rubbish as they have to always say \"Gene Roddenberry's Earth...\" otherwise people would not continue watching. Roddenberry's ashes must be turning in their orbit as this dull, cheap, poorly edited (watching it without advert breaks really brings this home) trudging Trabant of a show lumbers into space. Spoiler. So, kill off a main character. And then bring him back as another actor. Jeeez! Dallas all over again.\n"
     ]
    }
   ],
   "source": [
    "_,text = next(iter(train_iter))\n",
    "_test,text_test = next(iter(test_iter))\n",
    "\n",
    "print(f\"First Train Text example: {text}\\n\")\n",
    "print(f\"First Test Text example: {text_test}\")"
   ]
  },
  {
   "cell_type": "code",
   "execution_count": null,
   "id": "16efb0b7-7e63-42d1-9872-26cd94fea279",
   "metadata": {},
   "outputs": [],
   "source": []
  }
 ],
 "metadata": {
  "kernelspec": {
   "display_name": "Python 3 (ipykernel)",
   "language": "python",
   "name": "python3"
  },
  "language_info": {
   "codemirror_mode": {
    "name": "ipython",
    "version": 3
   },
   "file_extension": ".py",
   "mimetype": "text/x-python",
   "name": "python",
   "nbconvert_exporter": "python",
   "pygments_lexer": "ipython3",
   "version": "3.12.7"
  }
 },
 "nbformat": 4,
 "nbformat_minor": 5
}
