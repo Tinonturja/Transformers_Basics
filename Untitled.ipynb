{
 "cells": [
  {
   "cell_type": "markdown",
   "id": "1a0ed321-5e60-4880-9e04-aecebc38d024",
   "metadata": {},
   "source": [
    "## Importing Library"
   ]
  },
  {
   "cell_type": "code",
   "execution_count": 36,
   "id": "7a5f741b-5883-4d06-bb45-819eeec15315",
   "metadata": {},
   "outputs": [],
   "source": [
    "import torch\n",
    "import torch.nn as nn\n",
    "from torch.utils.data import Dataset,DataLoader\n",
    "from torch.nn.utils.rnn import pad_sequence\n",
    "import torchtext\n",
    "from torchtext.data.utils import get_tokenizer\n",
    "from torchtext.vocab import build_vocab_from_iterator\n",
    "\n",
    "from torchtext.datasets import IMDB\n",
    "import time\n",
    "import random\n",
    "import warnings\n",
    "def warn(*args,**kwargs):\n",
    "    pass\n",
    "\n",
    "warnings.warn = warn()\n",
    "warnings.filterwarnings('ignore')"
   ]
  },
  {
   "cell_type": "markdown",
   "id": "0029e097-a72f-4980-917c-36e3835dd6dc",
   "metadata": {},
   "source": [
    "## Dataset"
   ]
  },
  {
   "cell_type": "code",
   "execution_count": 24,
   "id": "4c2eeae6-660d-4956-b3a8-b7bbee41ceed",
   "metadata": {},
   "outputs": [
    {
     "name": "stdout",
     "output_type": "stream",
     "text": [
      "12500\n",
      "[1]\n",
      "Total sample:12500\n",
      "25000\n",
      "[1, 2]\n",
      "Total sample in testdataset:25000\n",
      "Time required: 1.00 seconds\n"
     ]
    }
   ],
   "source": [
    "train_iter,test_iter = IMDB()\n",
    "\n",
    "label,text_list = [],[]\n",
    "test_label,test_text_list = [],[]\n",
    "start_time = time.time()\n",
    "for _,text in train_iter:\n",
    "    label.append(_)\n",
    "    text_list.append(text)\n",
    "\n",
    "print(len(label))\n",
    "print(list(set(label)))\n",
    "print(f\"Total sample:{len(text_list)}\")\n",
    "\n",
    "\n",
    "for _,text in test_iter:\n",
    "    test_label.append(_)\n",
    "    test_text_list.append(text)\n",
    "\n",
    "end_time = time.time()\n",
    "duration = end_time-start_time\n",
    "print(len(test_label))\n",
    "print(list(set(test_label)))\n",
    "print(f\"Total sample in testdataset:{len(test_text_list)}\")\n",
    "print(f\"Time required: {duration:.2f} seconds\")"
   ]
  },
  {
   "cell_type": "markdown",
   "id": "a870dde1-c070-4a01-8413-397cc3c1cc25",
   "metadata": {},
   "source": [
    "The training dataset has 12500 text block and the test dataset has 25000 text block"
   ]
  },
  {
   "cell_type": "code",
   "execution_count": 22,
   "id": "86751d57-8e01-4888-a328-829544001f4d",
   "metadata": {},
   "outputs": [
    {
     "name": "stdout",
     "output_type": "stream",
     "text": [
      "First Train Text example: I rented I AM CURIOUS-YELLOW from my video store because of all the controversy that surrounded it when it was first released in 1967. I also heard that at first it was seized by U.S. customs if it ever tried to enter this country, therefore being a fan of films considered \"controversial\" I really had to see this for myself.<br /><br />The plot is centered around a young Swedish drama student named Lena who wants to learn everything she can about life. In particular she wants to focus her attentions to making some sort of documentary on what the average Swede thought about certain political issues such as the Vietnam War and race issues in the United States. In between asking politicians and ordinary denizens of Stockholm about their opinions on politics, she has sex with her drama teacher, classmates, and married men.<br /><br />What kills me about I AM CURIOUS-YELLOW is that 40 years ago, this was considered pornographic. Really, the sex and nudity scenes are few and far between, even then it's not shot like some cheaply made porno. While my countrymen mind find it shocking, in reality sex and nudity are a major staple in Swedish cinema. Even Ingmar Bergman, arguably their answer to good old boy John Ford, had sex scenes in his films.<br /><br />I do commend the filmmakers for the fact that any sex shown in the film is shown for artistic purposes rather than just to shock people and make money to be shown in pornographic theaters in America. I AM CURIOUS-YELLOW is a good film for anyone wanting to study the meat and potatoes (no pun intended) of Swedish cinema. But really, this film doesn't have much of a plot.\n",
      "\n",
      "First Test Text example: I love sci-fi and am willing to put up with a lot. Sci-fi movies/TV are usually underfunded, under-appreciated and misunderstood. I tried to like this, I really did, but it is to good TV sci-fi as Babylon 5 is to Star Trek (the original). Silly prosthetics, cheap cardboard sets, stilted dialogues, CG that doesn't match the background, and painfully one-dimensional characters cannot be overcome with a 'sci-fi' setting. (I'm sure there are those of you out there who think Babylon 5 is good sci-fi TV. It's not. It's clichéd and uninspiring.) While US viewers might like emotion and character development, sci-fi is a genre that does not take itself seriously (cf. Star Trek). It may treat important issues, yet not as a serious philosophy. It's really difficult to care about the characters here as they are not simply foolish, just missing a spark of life. Their actions and reactions are wooden and predictable, often painful to watch. The makers of Earth KNOW it's rubbish as they have to always say \"Gene Roddenberry's Earth...\" otherwise people would not continue watching. Roddenberry's ashes must be turning in their orbit as this dull, cheap, poorly edited (watching it without advert breaks really brings this home) trudging Trabant of a show lumbers into space. Spoiler. So, kill off a main character. And then bring him back as another actor. Jeeez! Dallas all over again.\n"
     ]
    }
   ],
   "source": [
    "_,text = next(iter(train_iter))\n",
    "_test,text_test = next(iter(test_iter))\n",
    "\n",
    "print(f\"First Train Text example: {text}\\n\")\n",
    "print(f\"First Test Text example: {text_test}\")"
   ]
  },
  {
   "cell_type": "markdown",
   "id": "1a5c26f1-9231-4d3b-9f60-4e89c39e44c6",
   "metadata": {},
   "source": [
    "## Data Processing"
   ]
  },
  {
   "cell_type": "code",
   "execution_count": 26,
   "id": "11a37fc8-fc79-400f-bec3-a12be86ddc2d",
   "metadata": {},
   "outputs": [],
   "source": [
    "## Create tokens\n",
    "tokenizer = get_tokenizer('basic_english')\n",
    "\n",
    "UNK_IDX, PAD_IDX, EOS_IDX = 0,1,2\n",
    "\n",
    "special_symbols = ['<unk>','<pad>','<|endoftext|>']\n",
    "\n",
    "vocab = build_vocab_from_iterator(map(tokenizer,[text for _,text in train_iter]), specials = special_symbols,special_first = True)\n"
   ]
  },
  {
   "cell_type": "code",
   "execution_count": 27,
   "id": "79d3c174-441c-4f4c-b7de-0e7484ce5b57",
   "metadata": {},
   "outputs": [
    {
     "data": {
      "text/plain": [
       "68813"
      ]
     },
     "execution_count": 27,
     "metadata": {},
     "output_type": "execute_result"
    }
   ],
   "source": [
    "len(vocab)"
   ]
  },
  {
   "cell_type": "code",
   "execution_count": 29,
   "id": "04356656-1d0c-4596-986c-43b6ae407084",
   "metadata": {},
   "outputs": [
    {
     "data": {
      "text/plain": [
       "2435"
      ]
     },
     "execution_count": 29,
     "metadata": {},
     "output_type": "execute_result"
    }
   ],
   "source": [
    "vocab['drink']"
   ]
  },
  {
   "cell_type": "code",
   "execution_count": 32,
   "id": "7ff38171-49f5-4ff0-9d2f-2d1bc8d85131",
   "metadata": {},
   "outputs": [],
   "source": [
    "## Sample accumulation\n",
    "\"\"\"In decoder you have to define at how many blocks the model will look at once, This could be mentioned as context.\"\"\"\n",
    "\n",
    "def get_sample(context_size, text):\n",
    "    \"\"\"Context_size: The number of tokens the model will look at once\n",
    "    text: the whole text_tokens, From where the model will retrieve the tokens and assign to the source and target\"\"\"\n",
    "    sample_len = len(text)\n",
    "\n",
    "    src,trg = [],[]\n",
    "    if sample_len>context_size:\n",
    "        start = torch.randint(low = 0,high = sample_len-context_size, size = (1,)).item()\n",
    "        end = start+context_size\n",
    "\n",
    "        src = text[start:end]\n",
    "        trg = text[start+1:end+1]\n",
    "\n",
    "\n",
    "    elif sample_len< context_size:\n",
    "        start = torch.randint(0,sample_len,size = (1,)).item()\n",
    "        end = start+context_size\n",
    "\n",
    "        src = text[start:end]\n",
    "        trg = text[start+1:end]\n",
    "\n",
    "        trg.append('<|endoftext|>')\n",
    "\n",
    "    return src, trg\n",
    "        "
   ]
  },
  {
   "cell_type": "code",
   "execution_count": 33,
   "id": "d941fab4-080f-4a5b-a3fd-418634242533",
   "metadata": {},
   "outputs": [
    {
     "name": "stdout",
     "output_type": "stream",
     "text": [
      "Sample: 1\n",
      "Source: ['to', 'enter', 'this', 'country', ',', 'therefore', 'being', 'a', 'fan', 'of', 'films', 'considered', 'controversial', 'i', 'really', 'had', 'to', 'see', 'this', 'for']\n",
      "Target: ['enter', 'this', 'country', ',', 'therefore', 'being', 'a', 'fan', 'of', 'films', 'considered', 'controversial', 'i', 'really', 'had', 'to', 'see', 'this', 'for', 'myself']\n",
      "Sample: 1\n",
      "Source: ['the', 'controversy', 'that', 'surrounded', 'it', 'when', 'it', 'was', 'first', 'released', 'in', '1967', '.', 'i', 'also', 'heard', 'that', 'at', 'first', 'it']\n",
      "Target: ['controversy', 'that', 'surrounded', 'it', 'when', 'it', 'was', 'first', 'released', 'in', '1967', '.', 'i', 'also', 'heard', 'that', 'at', 'first', 'it', 'was']\n"
     ]
    }
   ],
   "source": [
    "BATCH_SIZE = 2\n",
    "CONTEXT_SIZE = 20\n",
    "for _ in range(BATCH_SIZE):\n",
    "    _,text = next(iter(train_iter))\n",
    "\n",
    "    src,trg = get_sample(context_size = CONTEXT_SIZE, text = tokenizer(text))\n",
    "\n",
    "    print(f\"Sample: {_}\")\n",
    "    print(f\"Source: {src}\")\n",
    "    print(f\"Target: {trg}\")\n",
    "    "
   ]
  },
  {
   "cell_type": "markdown",
   "id": "2e1c6edb-7886-409d-82c2-760f812c8a32",
   "metadata": {},
   "source": [
    "## INDEX TO ENGLISH & ENGLISH TO INDEX"
   ]
  },
  {
   "cell_type": "code",
   "execution_count": 41,
   "id": "b71356af-3234-46c0-b3f2-efbbebe7bc23",
   "metadata": {},
   "outputs": [],
   "source": [
    "idx_to_eng = lambda seq : \" \".join([vocab.get_itos()[idx] for idx in seq])\n",
    "eng_to_idx = lambda text: [vocab[token] for token in tokenizer(text)]"
   ]
  },
  {
   "cell_type": "markdown",
   "id": "b5029064-9fdf-4397-9d46-acc93c1cb01f",
   "metadata": {},
   "source": [
    "## Create Custom Collate Function"
   ]
  },
  {
   "cell_type": "code",
   "execution_count": 37,
   "id": "d9b158fd-0d4d-4357-8497-804b1d241473",
   "metadata": {},
   "outputs": [],
   "source": [
    "def collate_function(batch):\n",
    "    \"\"\"The collate_batch function prepares batches of source and target sequences for training by processing each text sample in a given batch. \n",
    "    It generates source and target sequences using the get_sample function with a specified block size, converts these sequences to indices using a vocabulary, and transforms them into PyTorch tensors. \n",
    "    The sequences are then padded to ensure uniform length across the batch. Finally, it returns the padded source and target batches, ready for training on the specified device (DEVICE).\"\"\"\n",
    "\n",
    "    src_batch,trg_batch = [],[]\n",
    "    for _,text in batch:\n",
    "\n",
    "        token_text = tokenizer(text)\n",
    "\n",
    "        src,trg = get_sample(context_size,token_text)\n",
    "\n",
    "        src_indices, trg_indices = vocab(src),vocab(trg)\n",
    "\n",
    "        src_seq,trg_seq = torch.tensor(src_indices,dtype = torch.int64),torch.tensor(trg_indices,dtype = torch.int64)\n",
    "\n",
    "        \n",
    "        src_batch.append(src_seq)\n",
    "        trg_batch.append(trg_seq)\n",
    "\n",
    "\n",
    "\n",
    "    src_batch = pad_sequence(src_batch,padding_value = PAD_IDX, batch_first = False)\n",
    "    trg_batch = pad_sequence(trg_batch,padding_value = PAD_IDX, batch_first = False)\n",
    "    return src_batch,trg_batch"
   ]
  },
  {
   "cell_type": "markdown",
   "id": "8c04e704-c49e-4322-b144-fd5b12612e87",
   "metadata": {},
   "source": [
    "## Create DataLoaders"
   ]
  },
  {
   "cell_type": "code",
   "execution_count": null,
   "id": "d2effa0b-58fb-4d28-923c-41de6c415337",
   "metadata": {},
   "outputs": [],
   "source": [
    "train_dataloader = DataLoader(dataset = train_iter,\n",
    "                             batch_size = 1,\n",
    "                             shuffle = True,\n",
    "                             collate_fn = collate_ba)"
   ]
  },
  {
   "cell_type": "markdown",
   "id": "f64c3c93-6017-4069-bb19-f2809a1860e0",
   "metadata": {},
   "source": [
    "## Iterating through Data sample"
   ]
  }
 ],
 "metadata": {
  "kernelspec": {
   "display_name": "Python 3 (ipykernel)",
   "language": "python",
   "name": "python3"
  },
  "language_info": {
   "codemirror_mode": {
    "name": "ipython",
    "version": 3
   },
   "file_extension": ".py",
   "mimetype": "text/x-python",
   "name": "python",
   "nbconvert_exporter": "python",
   "pygments_lexer": "ipython3",
   "version": "3.12.7"
  }
 },
 "nbformat": 4,
 "nbformat_minor": 5
}
