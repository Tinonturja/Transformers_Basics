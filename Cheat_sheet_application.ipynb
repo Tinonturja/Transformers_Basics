{
 "cells": [
  {
   "cell_type": "code",
   "execution_count": 1,
   "id": "c324c2f2-5c98-4fd5-977e-c8be4db919b1",
   "metadata": {},
   "outputs": [],
   "source": [
    "# Pytorch embedding and embedding bag"
   ]
  },
  {
   "cell_type": "code",
   "execution_count": 2,
   "id": "892a0965-faf5-4cfd-954a-c438ac66ae5a",
   "metadata": {},
   "outputs": [],
   "source": [
    "import torch\n",
    "import torchtext\n",
    "from torchtext.data.utils import get_tokenizer\n",
    "from torchtext.vocab import build_vocab_from_iterator"
   ]
  },
  {
   "cell_type": "code",
   "execution_count": 3,
   "id": "0db8de4a-7cd9-4715-908a-21218cdffcb4",
   "metadata": {},
   "outputs": [],
   "source": [
    "dataset = [\n",
    "    \"I like cats\",\n",
    "    \"I hate dogs\",\n",
    "    \"I'm impartial to hippos\"\n",
    "]\n",
    "\n",
    "\n",
    "tokenizer = get_tokenizer('basic_english')\n",
    "# set the tokenizer\n",
    "vocab = build_vocab_from_iterator(map(tokenizer,dataset),specials = [\"<unk>\"])\n",
    "vocab.set_default_index(vocab[\"<unk>\"])"
   ]
  },
  {
   "cell_type": "code",
   "execution_count": 4,
   "id": "dd3d04d1-ab20-4968-b6ce-b1b19532069e",
   "metadata": {},
   "outputs": [
    {
     "data": {
      "text/plain": [
       "{'hippos': 6,\n",
       " 'to': 10,\n",
       " 'm': 9,\n",
       " 'hate': 5,\n",
       " 'dogs': 4,\n",
       " 'like': 8,\n",
       " 'cats': 3,\n",
       " 'i': 1,\n",
       " \"'\": 2,\n",
       " 'impartial': 7,\n",
       " '<unk>': 0}"
      ]
     },
     "execution_count": 4,
     "metadata": {},
     "output_type": "execute_result"
    }
   ],
   "source": [
    "vocab.get_stoi()"
   ]
  },
  {
   "cell_type": "code",
   "execution_count": 5,
   "id": "ab68af2c-5635-4bdf-8692-e26d5ea08262",
   "metadata": {},
   "outputs": [
    {
     "data": {
      "text/plain": [
       "5"
      ]
     },
     "execution_count": 5,
     "metadata": {},
     "output_type": "execute_result"
    }
   ],
   "source": [
    "vocab['hate']"
   ]
  },
  {
   "cell_type": "code",
   "execution_count": 6,
   "id": "bd80ff52-bbde-4b52-88f1-b7a89a27e443",
   "metadata": {},
   "outputs": [
    {
     "data": {
      "text/plain": [
       "0"
      ]
     },
     "execution_count": 6,
     "metadata": {},
     "output_type": "execute_result"
    }
   ],
   "source": [
    "vocab['love']"
   ]
  },
  {
   "cell_type": "code",
   "execution_count": 8,
   "id": "7e941d37-b933-45af-b15e-78b0f0b21724",
   "metadata": {},
   "outputs": [],
   "source": [
    "dataset_2 = \"\"\"\n",
    "I would love to apply for M.Sc in Data Science in Havard University.I would love to make a good result in all of my semesters\"\"\"\n",
    "\n",
    "\n",
    "tokenizer = get_tokenizer('basic_english')\n",
    "\n",
    "\n",
    "def yield_tokens():\n",
    "    yield tokenizer(dataset_2)\n",
    "\n",
    "vocab = build_vocab_from_iterator(yield_tokens(),specials = [\"<unk>\"])\n",
    "vocab.set_default_index(vocab[\"<unk>\"])"
   ]
  },
  {
   "cell_type": "code",
   "execution_count": 9,
   "id": "d413b205-0837-4473-bf14-417180a24b00",
   "metadata": {},
   "outputs": [
    {
     "data": {
      "text/plain": [
       "{'semesters': 21,\n",
       " 'science': 20,\n",
       " 'sc': 19,\n",
       " 'of': 17,\n",
       " 'university': 22,\n",
       " 'result': 18,\n",
       " 'my': 16,\n",
       " 'make': 15,\n",
       " 'm': 14,\n",
       " 'havard': 13,\n",
       " 'for': 11,\n",
       " 'data': 10,\n",
       " 'i': 3,\n",
       " 'would': 6,\n",
       " 'love': 4,\n",
       " 'apply': 9,\n",
       " 'good': 12,\n",
       " '<unk>': 0,\n",
       " 'in': 1,\n",
       " 'a': 7,\n",
       " 'to': 5,\n",
       " 'all': 8,\n",
       " '.': 2}"
      ]
     },
     "execution_count": 9,
     "metadata": {},
     "output_type": "execute_result"
    }
   ],
   "source": [
    "vocab.get_stoi()"
   ]
  },
  {
   "cell_type": "code",
   "execution_count": null,
   "id": "da51cd42-e7df-4cd0-af3a-23ea22594cbd",
   "metadata": {},
   "outputs": [],
   "source": [
    "dataset_2.split(\" \")"
   ]
  },
  {
   "cell_type": "code",
   "execution_count": 10,
   "id": "80434995-6437-4bff-b0da-0cf3b7fcc6d3",
   "metadata": {},
   "outputs": [],
   "source": [
    "embedding_dim = 3\n",
    "\n",
    "n_embedding = len(vocab)"
   ]
  },
  {
   "cell_type": "code",
   "execution_count": 11,
   "id": "004249cd-3ea7-4f46-9aed-bd27f14d8daa",
   "metadata": {},
   "outputs": [
    {
     "data": {
      "text/plain": [
       "23"
      ]
     },
     "execution_count": 11,
     "metadata": {},
     "output_type": "execute_result"
    }
   ],
   "source": [
    "n_embedding"
   ]
  },
  {
   "cell_type": "code",
   "execution_count": null,
   "id": "21a9f6b9-019c-4a01-90c4-e5a224c082be",
   "metadata": {},
   "outputs": [],
   "source": []
  }
 ],
 "metadata": {
  "kernelspec": {
   "display_name": "Python 3 (ipykernel)",
   "language": "python",
   "name": "python3"
  },
  "language_info": {
   "codemirror_mode": {
    "name": "ipython",
    "version": 3
   },
   "file_extension": ".py",
   "mimetype": "text/x-python",
   "name": "python",
   "nbconvert_exporter": "python",
   "pygments_lexer": "ipython3",
   "version": "3.12.7"
  }
 },
 "nbformat": 4,
 "nbformat_minor": 5
}
